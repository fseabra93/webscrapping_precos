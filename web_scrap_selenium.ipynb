{
 "cells": [
  {
   "cell_type": "code",
   "execution_count": 68,
   "id": "394c5f5e-5cfb-4be6-b19d-a1cf4484cf7a",
   "metadata": {},
   "outputs": [],
   "source": [
    "import pandas as pd\n",
    "import numpy as np"
   ]
  },
  {
   "cell_type": "code",
   "execution_count": 69,
   "id": "b5f8b4fb-83a7-4e91-9a62-7d2bf00c62a7",
   "metadata": {},
   "outputs": [],
   "source": [
    "df = pd.read_excel('CONTROLE DE ESTOQUE.xlsx')"
   ]
  },
  {
   "cell_type": "code",
   "execution_count": 70,
   "id": "c362e276-ddd9-4d88-878f-18a08a577c8d",
   "metadata": {},
   "outputs": [],
   "source": [
    "df.columns = df.iloc[0]  # Define a primeira linha como nomes das colunas\n",
    "df = df[1:]  # Remove a primeira linha do DataFrame\n",
    "df.reset_index(inplace=True)"
   ]
  },
  {
   "cell_type": "code",
   "execution_count": 71,
   "id": "bc9e49dc-cbc3-44b8-88ab-fcf8834992d5",
   "metadata": {},
   "outputs": [],
   "source": [
    "# Remover linhas onde a coluna 'Material' contém NaN\n",
    "df_cleaned = df.dropna(subset=['MATERIAL'])\n",
    "# df_cleaned.tail()"
   ]
  },
  {
   "cell_type": "code",
   "execution_count": 72,
   "id": "a37fdb4f-fe48-4cf6-92b8-72ba2c925fda",
   "metadata": {},
   "outputs": [],
   "source": [
    "# df_cleaned.shape"
   ]
  },
  {
   "cell_type": "code",
   "execution_count": 73,
   "id": "b0f19369-394a-4603-9b0b-e70cedfd70a8",
   "metadata": {},
   "outputs": [],
   "source": [
    "# print(df_cleaned.cremer[i])"
   ]
  },
  {
   "cell_type": "code",
   "execution_count": 74,
   "id": "b2938b74-fb97-42d6-be87-e8cd1528ee4f",
   "metadata": {},
   "outputs": [],
   "source": [
    "produto = []\n",
    "preco_cremer = []\n",
    "preco_speed = []"
   ]
  },
  {
   "cell_type": "code",
   "execution_count": 75,
   "id": "d088ba69-5228-423c-ba33-b3bfb06a33e9",
   "metadata": {},
   "outputs": [
    {
     "name": "stdout",
     "output_type": "stream",
     "text": [
      "Adesivo Single Bond Universal - 3M -> R$246,90\n",
      "Álcool etílico a 70% -> R$9,90\n",
      "Alginato -> R$33,90\n",
      "Anestésico Articaína -> R$241,90\n",
      "Anestésico lidocaína c/fenilefrina (Novocol) -> R$89,90\n",
      "Anestésico Mepivicaína 3% sem vasoconstrictor -> R$167,90\n",
      "Anestésico Tópico -> R$16,20\n",
      "Broca carbide p/ acabamento de resina, c/ 30 lâminas, formato pera no.9406 -> R$37,90\n",
      "Broca carbide p/ acabamento de resina, no.9004 -> R$37,90\n",
      "Capote material não tecido textura todo impermeável, atóxico, em malha lombar com fechamento com tiras de amarrar cervical e lombar Manga Longa Gramatura 40 -> R$59,90\n",
      "Cimento cirúrgico -> R$199,90\n",
      "Cimento de hidróxido de cálcio p/ forramento (dycal) -> R$56,90\n",
      "Clorexidina a 0,12% para bochecho (solução aquosa) -> R$38,90\n",
      "Clorexidina a 2% para limpeza de cavidade (solução aquosa) -> R$18,90\n",
      "Coltosol (Restaurador provisório) -> R$18,90\n",
      "Condicionador ácido gel  (ácido fosfórico) -> R$8,79\n",
      "Cotonete -> R$2,99\n",
      "Cunha de madeira anatômica colorida (padrão FGM) -> R$18,90\n",
      "Detergente enzimático -> R$44,90\n",
      "Dique de borracha -> R$28,90\n",
      "EDTA líquido para endodontia -> R$9,90\n",
      "Envelope para esterilização 9X26 cm -> R$27,90\n",
      "Ficha para Raio X odontológico c/ 02 furos (produzido em papel) -> R$19,90\n",
      "Fio de sutura de seda nº 4-0 -> R$56,90\n",
      "Fio dental -> R$14,90\n",
      "Fixador p/ RX -> R$32,90\n",
      "Flúor Tópico Neutro  -> R$9,90\n",
      "Formocresol  -> R$20,90\n",
      "Gás refrigerante, teste de vitalidade pulpar, cilindro descartável, propano/butano -> R$76,90\n",
      "Gel Dessensibilizante KF 2% -> R$36,99\n",
      "Gorro (touca) -> R$13,90\n",
      "Hidróxido de cálcio PA -> R$9,79\n",
      "Hipoclorito de Sódio a 1% (milton) -> R$9,19\n",
      "INDICADOR BIOLÓGICO AUTOCLAVE -> R$59,90\n",
      "Ionômero de vidro fotopolimerizável -> R$202,90\n",
      "Ionômero de vidro para restauração (kit completo) -> R$90,99\n",
      "Lixa de poliester para resina -> R$20,90\n",
      "Luva para procedimentos M -> R$34,99\n",
      "Luva para procedimentos PP -> R$34,99\n",
      "Máscara Descartável Tripla com Clipe Nasal -> R$27,90\n",
      "Máscara N95 -> R$7,90\n",
      "Óleo lubrificante para alta e baixa rotação tipo spray -> R$59,90\n",
      "Paramonoclorofenol Canforado -> R$15,90\n",
      "Ponta diamantada de acabamento fino, nº3168F -> R$10,90\n",
      "Pontas avulsas para Seringa Centrix (Precision no. 4) -> R$98,90\n",
      "Pontas descartáveis para Seringa Tríplice (Triple Tip) -> R$59,90\n",
      "Pontas tipo Enhance p/ acabamento em resina em formato de Taça -> R$149,99\n",
      "Resina Bulk Fill FLOW (A2) -> R$177,99\n",
      "Resina composta Nanopartícula  (cor A1)  -> R$45,99\n",
      "Resina composta Nanopartícula  (cor A2)  -> R$45,99\n",
      "Resina composta Nanopartícula  (cor A3)  -> R$45,99\n",
      "Resina composta Nanopartícula  (cor B2)  -> R$45,99\n",
      "Revelador p/ RX -> R$32,90\n",
      "Rolo de esterilização 10 cm X 100cm  -> R$70,90\n",
      "Rolo de esterilização 5 cm X 100cm  -> R$38,90\n",
      "Saco Plástico Sacolé -> R$2,29\n",
      "Solução hemostática (tipo Hemostop) -> R$25,90\n",
      "Soro fisiológico -> R$4,99\n",
      "Sugador plástico descartável  -> R$10,90\n",
      "Tira de poliéster -> R$9,90\n",
      "Verniz com flúor  -> R$56,99\n"
     ]
    }
   ],
   "source": [
    "from selenium import webdriver\n",
    "from selenium.webdriver.common.by import By\n",
    "from bs4 import BeautifulSoup\n",
    "import time\n",
    "\n",
    "# Configurar o driver do Selenium (por exemplo, Chrome)\n",
    "driver = webdriver.Chrome()  # Certifique-se de que o chromedriver está no PATH\n",
    "\n",
    "for i in range (0, df_cleaned.shape[0]):\n",
    "    try:\n",
    "        # Acessar a página\n",
    "        url = df_cleaned.cremer[i]\n",
    "        driver.get(url)\n",
    "    \n",
    "        # Esperar um pouco para a página carregar\n",
    "        time.sleep(3)  # Ajuste o tempo conforme necessário\n",
    "    \n",
    "        # Obter o HTML da página\n",
    "        html = driver.page_source\n",
    "    \n",
    "        # Usar BeautifulSoup para analisar o HTML\n",
    "        soup = BeautifulSoup(html, 'html.parser')\n",
    "    \n",
    "        # Extrair o nome do produto\n",
    "        # try:\n",
    "        #     nome_produto = soup.find('h1').text.strip()  # Ajuste o seletor conforme necessário\n",
    "        # except AttributeError:\n",
    "        #     nome_produto = \"Nome do produto não encontrado\"\n",
    "    \n",
    "        # Extrair o preço\n",
    "        try:\n",
    "            preco_produto = soup.find('span', class_='price').text.strip()  # Ajuste a classe conforme necessário\n",
    "        except AttributeError:\n",
    "            preco_produto = \"Preço não encontrado\"\n",
    "    \n",
    "        # Exibir os resultados\n",
    "        print(f'{df_cleaned.MATERIAL[i]} -> {preco_produto}')\n",
    "        produto.append(df_cleaned.MATERIAL[i])\n",
    "        preco_cremer.append(preco_produto)\n",
    "    \n",
    "    except Exception as e:\n",
    "        print(f'Ocorreu um erro: {e}')\n",
    "\n",
    "driver.quit()"
   ]
  },
  {
   "cell_type": "code",
   "execution_count": 76,
   "id": "9975e7ca-79ce-493e-b596-4e39fc7a4a3a",
   "metadata": {},
   "outputs": [
    {
     "name": "stdout",
     "output_type": "stream",
     "text": [
      "Adesivo Single Bond Universal - 3M -> R$209,90\n",
      "Álcool etílico a 70% -> R$9,90\n",
      "Alginato -> \n",
      "Anestésico Articaína -> R$218,90\n",
      "Anestésico lidocaína c/fenilefrina (Novocol) -> R$89,90\n",
      "Anestésico Mepivicaína 3% sem vasoconstrictor -> R$167,90\n",
      "Anestésico Tópico -> R$16,20\n",
      "Broca carbide p/ acabamento de resina, c/ 30 lâminas, formato pera no.9406 -> R$37,90\n",
      "Broca carbide p/ acabamento de resina, no.9004 -> R$37,90\n",
      "Capote material não tecido textura todo impermeável, atóxico, em malha lombar com fechamento com tiras de amarrar cervical e lombar Manga Longa Gramatura 40 -> R$108,50\n",
      "Cimento cirúrgico -> R$199,90\n",
      "Cimento de hidróxido de cálcio p/ forramento (dycal) -> R$59,90\n",
      "Clorexidina a 0,12% para bochecho (solução aquosa) -> R$14,90\n",
      "Clorexidina a 2% para limpeza de cavidade (solução aquosa) -> R$18,90\n",
      "Coltosol (Restaurador provisório) -> R$14,90\n",
      "Condicionador ácido gel  (ácido fosfórico) -> R$11,90\n",
      "Cotonete -> R$2,99\n",
      "Cunha de madeira anatômica colorida (padrão FGM) -> R$18,90\n",
      "Detergente enzimático -> R$44,90\n",
      "Dique de borracha -> R$28,90\n",
      "EDTA líquido para endodontia -> R$11,90\n",
      "Envelope para esterilização 9X26 cm -> R$27,90\n",
      "Ficha para Raio X odontológico c/ 02 furos (produzido em papel) -> R$21,90\n",
      "Fio de sutura de seda nº 4-0 -> R$56,90\n",
      "Fio dental -> R$16,90\n",
      "Fixador p/ RX -> R$32,90\n",
      "Flúor Tópico Neutro  -> R$9,90\n",
      "Formocresol  -> R$21,90\n",
      "Gás refrigerante, teste de vitalidade pulpar, cilindro descartável, propano/butano -> R$76,90\n",
      "Gel Dessensibilizante KF 2% -> R$36,99\n",
      "Gorro (touca) -> R$13,90\n",
      "Hidróxido de cálcio PA -> R$9,79\n",
      "Hipoclorito de Sódio a 1% (milton) -> R$9,19\n",
      "INDICADOR BIOLÓGICO AUTOCLAVE -> R$59,90\n",
      "Ionômero de vidro fotopolimerizável -> R$85,90\n",
      "Ionômero de vidro para restauração (kit completo) -> R$90,90\n",
      "Lixa de poliester para resina -> R$14,90\n",
      "Luva para procedimentos M -> R$26,99\n",
      "Luva para procedimentos PP -> R$26,99\n",
      "Máscara Descartável Tripla com Clipe Nasal -> R$27,90\n",
      "Máscara N95 -> \n",
      "Óleo lubrificante para alta e baixa rotação tipo spray -> R$29,90\n",
      "Paramonoclorofenol Canforado -> R$15,90\n",
      "Ponta diamantada de acabamento fino, nº3168F -> R$11,90\n",
      "Pontas avulsas para Seringa Centrix (Precision no. 4) -> R$98,90\n",
      "Pontas descartáveis para Seringa Tríplice (Triple Tip) -> R$59,90\n",
      "Pontas tipo Enhance p/ acabamento em resina em formato de Taça -> R$149,99\n",
      "Resina Bulk Fill FLOW (A2) -> R$177,99\n",
      "Resina composta Nanopartícula  (cor A1)  -> R$95,90\n",
      "Resina composta Nanopartícula  (cor A2)  -> R$95,90\n",
      "Resina composta Nanopartícula  (cor A3)  -> R$95,90\n",
      "Resina composta Nanopartícula  (cor B2)  -> R$95,90\n",
      "Revelador p/ RX -> R$32,90\n",
      "Rolo de esterilização 10 cm X 100cm  -> R$78,90\n",
      "Rolo de esterilização 5 cm X 100cm  -> R$37,90\n",
      "Saco Plástico Sacolé -> R$2,29\n",
      "Solução hemostática (tipo Hemostop) -> R$25,90\n",
      "Soro fisiológico -> R$4,99\n",
      "Sugador plástico descartável  -> R$10,90\n",
      "Tira de poliéster -> R$9,90\n",
      "Verniz com flúor  -> R$42,90\n"
     ]
    }
   ],
   "source": [
    "from selenium import webdriver\n",
    "from selenium.webdriver.common.by import By\n",
    "from bs4 import BeautifulSoup\n",
    "import time\n",
    "\n",
    "# Configurar o driver do Selenium (por exemplo, Chrome)\n",
    "driver = webdriver.Chrome()  # Certifique-se de que o chromedriver está no PATH\n",
    "\n",
    "for i in range (0, df_cleaned.shape[0]):\n",
    "    try:\n",
    "        # Acessar a página\n",
    "        url = df_cleaned.speed[i]\n",
    "        driver.get(url)\n",
    "    \n",
    "        # Esperar um pouco para a página carregar\n",
    "        time.sleep(3)  # Ajuste o tempo conforme necessário\n",
    "    \n",
    "        # Obter o HTML da página\n",
    "        html = driver.page_source\n",
    "    \n",
    "        # Usar BeautifulSoup para analisar o HTML\n",
    "        soup = BeautifulSoup(html, 'html.parser')\n",
    "    \n",
    "        # Extrair o nome do produto\n",
    "        # try:\n",
    "        #     nome_produto = soup.find('h1').text.strip()  # Ajuste o seletor conforme necessário\n",
    "        # except AttributeError:\n",
    "        #     nome_produto = \"Nome do produto não encontrado\"\n",
    "    \n",
    "        # Extrair o preço\n",
    "        try:\n",
    "            preco_produto = soup.find('span', class_='price').text.strip()  # Ajuste a classe conforme necessário\n",
    "        except AttributeError:\n",
    "            preco_produto = \"Preço não encontrado\"\n",
    "    \n",
    "        # Exibir os resultados\n",
    "        print(f'{df_cleaned.MATERIAL[i]} -> {preco_produto}')\n",
    "        #produto.append(df_cleaned.MATERIAL[i])\n",
    "        preco_speed.append(preco_produto)\n",
    "    \n",
    "    except Exception as e:\n",
    "        print(f'Ocorreu um erro: {e}')\n",
    "\n",
    "driver.quit()"
   ]
  },
  {
   "cell_type": "code",
   "execution_count": 77,
   "id": "8825e933-9a80-453f-ab07-ab848031aed1",
   "metadata": {},
   "outputs": [],
   "source": [
    "data = {\n",
    "    'Material': produto,\n",
    "    'Dental_Cremer': preco_cremer,\n",
    "    'Dental_Speed': preco_speed,\n",
    "    \n",
    "}\n",
    "\n",
    "df = pd.DataFrame(data)"
   ]
  },
  {
   "cell_type": "code",
   "execution_count": 78,
   "id": "a01058d6-2b89-4067-af5f-6fed81ea9c5a",
   "metadata": {},
   "outputs": [],
   "source": [
    "# Substituir strings vazias por '0'\n",
    "df['Dental_Cremer'] = df['Dental_Cremer'].replace('Preço não encontrado', '0')\n",
    "df['Dental_Cremer'] = df['Dental_Cremer'].replace('', '0')\n",
    "\n",
    "df['Dental_Speed'] = df['Dental_Speed'].replace('Preço não encontrado', '0')\n",
    "df['Dental_Speed'] = df['Dental_Speed'].replace('', '0')"
   ]
  },
  {
   "cell_type": "code",
   "execution_count": 79,
   "id": "dca51c84-0099-4b6a-a612-1168f7b8cfcb",
   "metadata": {},
   "outputs": [],
   "source": [
    "# Criar nova coluna com os valores convertidos para float\n",
    "df['Cremer'] = df['Dental_Cremer'].str.replace('R$', '', regex=False)  # Remove o símbolo 'R$'\n",
    "df['Cremer'] = df['Cremer'].str.replace('.', '', regex=False)  # Remove os pontos\n",
    "df['Cremer'] = df['Cremer'].str.replace(',', '.', regex=False)  # Substitui vírgula por ponto\n",
    "df['Cremer'] = df['Cremer'].astype(float)  # Converte para float"
   ]
  },
  {
   "cell_type": "code",
   "execution_count": 80,
   "id": "1e0eb4e9-b56b-4bba-a58e-9d2d53c2a3bf",
   "metadata": {},
   "outputs": [],
   "source": [
    "# Criar nova coluna com os valores convertidos para float\n",
    "df['Speed'] = df['Dental_Speed'].str.replace('R$', '', regex=False)  # Remove o símbolo 'R$'\n",
    "df['Speed'] = df['Speed'].str.replace('.', '', regex=False)  # Remove os pontos\n",
    "df['Speed'] = df['Speed'].str.replace(',', '.', regex=False)  # Substitui vírgula por ponto\n",
    "df['Speed'] = df['Speed'].astype(float)  # Converte para float"
   ]
  },
  {
   "cell_type": "code",
   "execution_count": 81,
   "id": "fd8ab4b8-e216-4a08-9734-348fad6d5787",
   "metadata": {},
   "outputs": [],
   "source": [
    "df_dropped = df.drop(columns=['Dental_Cremer', 'Dental_Speed'])"
   ]
  },
  {
   "cell_type": "code",
   "execution_count": 82,
   "id": "68ce6b50-b260-4d13-8d87-159557d3937e",
   "metadata": {},
   "outputs": [],
   "source": [
    "df_dropped.to_excel('precos_cremer.xlsx')"
   ]
  }
 ],
 "metadata": {
  "kernelspec": {
   "display_name": "Python 3 (ipykernel)",
   "language": "python",
   "name": "python3"
  },
  "language_info": {
   "codemirror_mode": {
    "name": "ipython",
    "version": 3
   },
   "file_extension": ".py",
   "mimetype": "text/x-python",
   "name": "python",
   "nbconvert_exporter": "python",
   "pygments_lexer": "ipython3",
   "version": "3.11.7"
  }
 },
 "nbformat": 4,
 "nbformat_minor": 5
}
